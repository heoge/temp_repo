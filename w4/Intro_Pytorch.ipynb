{
  "nbformat": 4,
  "nbformat_minor": 0,
  "metadata": {
    "colab": {
      "provenance": [],
      "gpuType": "T4",
      "include_colab_link": true
    },
    "kernelspec": {
      "name": "python3",
      "display_name": "Python 3"
    },
    "language_info": {
      "name": "python"
    },
    "accelerator": "GPU"
  },
  "cells": [
    {
      "cell_type": "markdown",
      "metadata": {
        "id": "view-in-github",
        "colab_type": "text"
      },
      "source": [
        "<a href=\"https://colab.research.google.com/github/heoge/temp_repo/blob/main/w4/Intro_Pytorch.ipynb\" target=\"_parent\"><img src=\"https://colab.research.google.com/assets/colab-badge.svg\" alt=\"Open In Colab\"/></a>"
      ]
    },
    {
      "cell_type": "code",
      "execution_count": 29,
      "metadata": {
        "id": "896EjBJYTefi"
      },
      "outputs": [],
      "source": [
        "import torch"
      ]
    },
    {
      "cell_type": "code",
      "source": [
        "\n",
        "torch.ones(size=(2, 1)) #1 Unlike in other frameworks, the shape argument is named ''size'' rather than ''shape''\n"
      ],
      "metadata": {
        "colab": {
          "base_uri": "https://localhost:8080/"
        },
        "id": "rIhSM4IlTqzf",
        "outputId": "2fb4a68c-a0c2-4acc-c94b-e9d5ef35c42d"
      },
      "execution_count": 30,
      "outputs": [
        {
          "output_type": "execute_result",
          "data": {
            "text/plain": [
              "tensor([[1.],\n",
              "        [1.]])"
            ]
          },
          "metadata": {},
          "execution_count": 30
        }
      ]
    },
    {
      "cell_type": "code",
      "source": [
        "torch.zeros(size=(2, 1))\n"
      ],
      "metadata": {
        "colab": {
          "base_uri": "https://localhost:8080/"
        },
        "id": "hX4WlJkVTrgf",
        "outputId": "8890cb08-f102-4187-9498-802987f5f92e"
      },
      "execution_count": 31,
      "outputs": [
        {
          "output_type": "execute_result",
          "data": {
            "text/plain": [
              "tensor([[0.],\n",
              "        [0.]])"
            ]
          },
          "metadata": {},
          "execution_count": 31
        }
      ]
    },
    {
      "cell_type": "code",
      "source": [
        "torch.tensor([1, 2, 3], dtype=torch.float32) #2 Unlike in other frameworks, you cannot pass dtype=''float32'' as a string. The dtype argument must be a torch dtype instance."
      ],
      "metadata": {
        "colab": {
          "base_uri": "https://localhost:8080/"
        },
        "id": "bSfUwxNgTf1M",
        "outputId": "1c133215-712b-478d-d51d-256395393194"
      },
      "execution_count": 32,
      "outputs": [
        {
          "output_type": "execute_result",
          "data": {
            "text/plain": [
              "tensor([1., 2., 3.])"
            ]
          },
          "metadata": {},
          "execution_count": 32
        }
      ]
    },
    {
      "cell_type": "code",
      "source": [
        "torch.normal( #1 Equivalent to tf.random.normal(shape=(3, 1), mean=0., stddev=1.)\n",
        "... mean=torch.zeros(size=(3, 1)),\n",
        "... std=torch.ones(size=(3, 1)))"
      ],
      "metadata": {
        "colab": {
          "base_uri": "https://localhost:8080/"
        },
        "id": "z0b_3RQ8TtO6",
        "outputId": "d2ebb068-cd11-4fa9-c611-d9822799c186"
      },
      "execution_count": 33,
      "outputs": [
        {
          "output_type": "execute_result",
          "data": {
            "text/plain": [
              "tensor([[-0.4551],\n",
              "        [-1.2391],\n",
              "        [-0.3496]])"
            ]
          },
          "metadata": {},
          "execution_count": 33
        }
      ]
    },
    {
      "cell_type": "code",
      "source": [
        "torch.rand(3, 1) #1 Equivalent to tf.random.uniform(shape=(3, 1), minval=0., maxval=1.)"
      ],
      "metadata": {
        "colab": {
          "base_uri": "https://localhost:8080/"
        },
        "id": "AhzycIlmT8eI",
        "outputId": "31a6e5d9-8567-480e-d519-c55f3ad048ac"
      },
      "execution_count": 34,
      "outputs": [
        {
          "output_type": "execute_result",
          "data": {
            "text/plain": [
              "tensor([[0.6937],\n",
              "        [0.8126],\n",
              "        [0.6752]])"
            ]
          },
          "metadata": {},
          "execution_count": 34
        }
      ]
    },
    {
      "cell_type": "code",
      "source": [],
      "metadata": {
        "id": "pEVW1eJyUStt"
      },
      "execution_count": 34,
      "outputs": []
    },
    {
      "cell_type": "markdown",
      "source": [
        "\n",
        "Like NumPy arrays, but unlike TensorFlow tensors, PyTorch tensors are assignable."
      ],
      "metadata": {
        "id": "rCsdLfzsUTva"
      }
    },
    {
      "cell_type": "code",
      "source": [
        "x = torch.zeros(size=(2, 1))"
      ],
      "metadata": {
        "id": "9fCcq_XHUEtJ"
      },
      "execution_count": 35,
      "outputs": []
    },
    {
      "cell_type": "code",
      "source": [
        "x[0, 0] = 1.\n",
        "x"
      ],
      "metadata": {
        "colab": {
          "base_uri": "https://localhost:8080/"
        },
        "id": "ATmpJn6uUG_J",
        "outputId": "11988cae-5b48-44da-9f38-49b38df8fe33"
      },
      "execution_count": 36,
      "outputs": [
        {
          "output_type": "execute_result",
          "data": {
            "text/plain": [
              "tensor([[1.],\n",
              "        [0.]])"
            ]
          },
          "metadata": {},
          "execution_count": 36
        }
      ]
    },
    {
      "cell_type": "markdown",
      "source": [
        "While you can just use a regular torch.Tensor to store the trainable state of a model,\n",
        "PyTorch does provide a specialized tensor subclass for that purpose, the\n",
        "torch.nn.parameter.Parameter class. Compared to a regular tensor, it provides semantic\n",
        "clarity – if you see a Parameter, you’ll know it’s a piece of trainable state, whereas a\n",
        "Tensor could be anything. As a result, it enables PyTorch to automatically track and\n",
        "retrieve the Parameters you assign to PyTorch models – similar to what Keras does with\n",
        "Keras Variable instances."
      ],
      "metadata": {
        "id": "OuhH_0mYUhJe"
      }
    },
    {
      "cell_type": "code",
      "source": [
        "x = torch.zeros(size=(2, 1))\n",
        "p = torch.nn.parameter.Parameter(data=x) #1 A Parameter can only be created using a torch.Tensor value – no NumPy arrays allowed."
      ],
      "metadata": {
        "id": "WHHswix0UIT4"
      },
      "execution_count": 37,
      "outputs": []
    },
    {
      "cell_type": "code",
      "source": [
        "a = torch.ones((2, 2))\n",
        "b = torch.square(a) #1 Take the square, same as np.square\n",
        "c = torch.sqrt(a) #2 Take the square root, same as np.sqrt\n",
        "d = b + c #3 Add two tensors (element-wise)\n",
        "e = torch.matmul(a, b) #4 Take the product of two tensors (see chapter 2), same as np.matmul\n",
        "f = torch.cat((a, b), axis=0) #5 Concatenate a and b along axis 0, same as np.concatenate"
      ],
      "metadata": {
        "id": "_Cp6bdOJUlCY"
      },
      "execution_count": 38,
      "outputs": []
    },
    {
      "cell_type": "markdown",
      "source": [
        "Dense layer"
      ],
      "metadata": {
        "id": "FzfKXRlPUzvV"
      }
    },
    {
      "cell_type": "code",
      "source": [
        "def dense(inputs, W, b):\n",
        "  return torch.nn.relu(torch.matmul(inputs, W) + b)\n"
      ],
      "metadata": {
        "id": "dgIOTUtpUv4H"
      },
      "execution_count": 39,
      "outputs": []
    },
    {
      "cell_type": "code",
      "source": [],
      "metadata": {
        "id": "HoLF3oBKVFCz"
      },
      "execution_count": 39,
      "outputs": []
    },
    {
      "cell_type": "markdown",
      "source": [
        "### COMPUTING GRADIENTS WITH PYTORCH"
      ],
      "metadata": {
        "id": "BjDaEfSaVFlh"
      }
    },
    {
      "cell_type": "code",
      "source": [
        "input_var = torch.tensor(3.0, requires_grad=True) #1 In order to compute gradients with respect to a tensor, it must be created with requires_grad=True.\n",
        "result = torch.square(input_var) #2 Calling backward() populates the ''grad'' attribute on all tensors create with requires_grad=True.\n",
        "result.backward()\n",
        "gradient = input_var.grad\n",
        "gradient\n"
      ],
      "metadata": {
        "colab": {
          "base_uri": "https://localhost:8080/"
        },
        "id": "yAxAl2zLUwL9",
        "outputId": "281f628a-16cb-464a-9d96-c643c8cf2236"
      },
      "execution_count": 57,
      "outputs": [
        {
          "output_type": "execute_result",
          "data": {
            "text/plain": [
              "tensor(6.)"
            ]
          },
          "metadata": {},
          "execution_count": 57
        }
      ]
    },
    {
      "cell_type": "markdown",
      "source": [
        "If you call backward() multiple times in a row, the .grad attribute will ''accumulate''\n",
        "gradients: each new call will sum the new gradient with the preexisting one. For instance,\n",
        "in the code below, input_var.grad is not the gradient of square(input_var) with respect\n",
        "to input_var, rather it is the sum of that gradient and the previously computed gradient –\n",
        "hence its value has doubled since our last code snippet."
      ],
      "metadata": {
        "id": "cPaSQ9HbVO3Z"
      }
    },
    {
      "cell_type": "markdown",
      "source": [
        "리셋하지 않으면 계속 6씩 늘어남"
      ],
      "metadata": {
        "id": "9vVTGC2E84Po"
      }
    },
    {
      "cell_type": "code",
      "source": [
        "result = torch.square(input_var)\n",
        "result.backward()\n",
        "input_var.grad"
      ],
      "metadata": {
        "colab": {
          "base_uri": "https://localhost:8080/"
        },
        "id": "z3m-kYb-U6ua",
        "outputId": "cd1dd94b-72a2-4134-d38a-528f5f889da0"
      },
      "execution_count": 58,
      "outputs": [
        {
          "output_type": "execute_result",
          "data": {
            "text/plain": [
              "tensor(12.)"
            ]
          },
          "metadata": {},
          "execution_count": 58
        }
      ]
    },
    {
      "cell_type": "code",
      "source": [
        "result = torch.square(input_var)\n",
        "result.backward()\n",
        "input_var.grad"
      ],
      "metadata": {
        "colab": {
          "base_uri": "https://localhost:8080/"
        },
        "id": "wvhcyTX88lnq",
        "outputId": "499b69fa-3971-403d-9965-899c8c79fbda"
      },
      "execution_count": 59,
      "outputs": [
        {
          "output_type": "execute_result",
          "data": {
            "text/plain": [
              "tensor(18.)"
            ]
          },
          "metadata": {},
          "execution_count": 59
        }
      ]
    },
    {
      "cell_type": "code",
      "source": [
        "result = torch.square(input_var)\n",
        "result.backward()\n",
        "input_var.grad"
      ],
      "metadata": {
        "colab": {
          "base_uri": "https://localhost:8080/"
        },
        "id": "a8HRKQo28qpD",
        "outputId": "3bcab7e1-666e-42b2-d2ca-21e9a6dc294a"
      },
      "execution_count": 60,
      "outputs": [
        {
          "output_type": "execute_result",
          "data": {
            "text/plain": [
              "tensor(24.)"
            ]
          },
          "metadata": {},
          "execution_count": 60
        }
      ]
    },
    {
      "cell_type": "markdown",
      "source": [
        "In order to reset gradients, you can just set .grad to None:"
      ],
      "metadata": {
        "id": "A81Iq5UaVefL"
      }
    },
    {
      "cell_type": "markdown",
      "source": [
        "리셋하는 코드 생성하면 처음으로 돌아감"
      ],
      "metadata": {
        "id": "tOjKFsBB9AGd"
      }
    },
    {
      "cell_type": "code",
      "source": [
        "input_var.grad = None"
      ],
      "metadata": {
        "id": "6AVMG4vfVLMq"
      },
      "execution_count": 55,
      "outputs": []
    },
    {
      "cell_type": "code",
      "source": [
        "result = torch.square(input_var) #2 Calling backward() populates the ''grad'' attribute on all tensors create with requires_grad=True.\n",
        "result.backward()\n",
        "gradient = input_var.grad\n",
        "gradient"
      ],
      "metadata": {
        "colab": {
          "base_uri": "https://localhost:8080/"
        },
        "id": "xLHSihInVgM3",
        "outputId": "98dbeaa7-4117-448d-e2d8-c0ee678153b7"
      },
      "execution_count": 49,
      "outputs": [
        {
          "output_type": "execute_result",
          "data": {
            "text/plain": [
              "tensor(6.)"
            ]
          },
          "metadata": {},
          "execution_count": 49
        }
      ]
    },
    {
      "cell_type": "markdown",
      "source": [
        "# An end-to-end example: a linear classifier in pure PyTorch"
      ],
      "metadata": {
        "id": "ipbl6lEwVs8o"
      }
    },
    {
      "cell_type": "markdown",
      "source": [
        "requires_grad=True"
      ],
      "metadata": {
        "id": "Ip9IlLz9WiwV"
      }
    },
    {
      "cell_type": "code",
      "source": [
        "input_dim = 2\n",
        "output_dim = 1\n",
        "W = torch.rand(input_dim, output_dim, requires_grad=True)\n",
        "b = torch.zeros(output_dim, requires_grad=True)"
      ],
      "metadata": {
        "id": "BOndVLhnViAY"
      },
      "execution_count": 16,
      "outputs": []
    },
    {
      "cell_type": "markdown",
      "source": [
        "This is our model"
      ],
      "metadata": {
        "id": "v1_17wjjWfC5"
      }
    },
    {
      "cell_type": "code",
      "source": [
        "def model(inputs, W, b):\n",
        "  return torch.matmul(inputs, W) + b"
      ],
      "metadata": {
        "id": "Pjz9sOjEVxLo"
      },
      "execution_count": 17,
      "outputs": []
    },
    {
      "cell_type": "markdown",
      "source": [
        "We just switch from tf.square to torch.square and from\n",
        "tf.reduce_mean to tf.mean."
      ],
      "metadata": {
        "id": "dLK3Q_-kWnhR"
      }
    },
    {
      "cell_type": "code",
      "source": [
        "def mean_squared_error(targets, predictions):\n",
        "  per_sample_losses = torch.square(targets - predictions)\n",
        "  return torch.mean(per_sample_losses)"
      ],
      "metadata": {
        "id": "zVOanUJwWZSb"
      },
      "execution_count": 18,
      "outputs": []
    },
    {
      "cell_type": "code",
      "source": [
        "learning_rate = 0.1\n",
        "def training_step(inputs, targets, W, b):\n",
        "  predictions = model(inputs) #1 Forward pass\n",
        "  loss = mean_squared_error(targets, predictions) #1\n",
        "  loss.backward() #2 Compute gradients\n",
        "  grad_loss_wrt_W, grad_loss_wrt_b = W.grad, b.grad #3 Retrieve gradients\n",
        "  with torch.no_grad():\n",
        "    W -= grad_loss_wrt_W * learning_rate #4 Update weights inside a no_grad scope\n",
        "    b -= grad_loss_wrt_b * learning_rate #4\n",
        "  W.grad = None #5 Reset gradients\n",
        "  b.grad = None #5\n",
        "  return loss"
      ],
      "metadata": {
        "id": "cZIg4IKPWcTp"
      },
      "execution_count": 20,
      "outputs": []
    },
    {
      "cell_type": "markdown",
      "source": [
        "Now for the training step. Here’s how it works:\n",
        "1. loss.backward() runs backpropagation starting from the loss output\n",
        "node, and populates the tensor.grad attribute on all tensors that were\n",
        "involved in the computation of loss. tensor.grad represents the\n",
        "gradient of the loss with regard to that tensor.\n",
        "2. We use the .grad attribute to recover the gradients of the loss with\n",
        "regard to W and b.\n",
        "3. We update W and b using those gradients. Because these updates are not\n",
        "intended to be part of the backwards pass, we do them inside a\n",
        "torch.no_grad() scope, which skips gradient computation for everything\n",
        "inside it.\n",
        "4. We reset the contents of the .grad property of our W and b parameters,\n",
        "by setting it None. If we didn’t do this, gradient values would accumulate\n",
        "across multiple calls to training_step(), resulting in invalid values."
      ],
      "metadata": {
        "id": "6-tVOT58XAbQ"
      }
    },
    {
      "cell_type": "markdown",
      "source": [
        "## PACKAGING STATE AND COMPUTATION WITH MODULES"
      ],
      "metadata": {
        "id": "uzZ5osZaXJN4"
      }
    },
    {
      "cell_type": "markdown",
      "source": [
        "PyTorch also has a higher-level, object-oriented API for performing backpropagation, which\n",
        "requires relying on two new classes: the torch.nn.Module class, as well as an optimizer\n",
        "class from the torch.optim module, such as torch.optim.SGD (the equivalent of\n",
        "keras.optimizers.SGD).\n",
        "The general idea is to define a subclass of torch.nn.Module, which will:\n",
        "1. Hold some Parameters, to store state variables. Those are defined in the\n",
        "init() method.\n",
        "2. Implement the forward pass computation in the forward() method."
      ],
      "metadata": {
        "id": "BlrJfi7LXM0o"
      }
    },
    {
      "cell_type": "code",
      "source": [
        "class LinearModel(torch.nn.Module):\n",
        "  def __init__(self):\n",
        "    super().__init__()\n",
        "    self.W = torch.nn.Parameter(torch.rand(input_dim, output_dim))\n",
        "    self.b = torch.nn.Parameter(torch.zeros(output_dim))\n",
        "  def forward(self, inputs):\n",
        "    return torch.matmul(inputs, self.W) + self.b\n"
      ],
      "metadata": {
        "id": "I-k76t53XA9q"
      },
      "execution_count": 21,
      "outputs": []
    },
    {
      "cell_type": "code",
      "source": [
        "model = LinearModel()"
      ],
      "metadata": {
        "id": "jfIsXETvXUWI"
      },
      "execution_count": 22,
      "outputs": []
    },
    {
      "cell_type": "markdown",
      "source": [
        "When using an instance of torch.nn.Module, rather than calling the forward() method\n",
        "directly, you’d use call(), which redirects to forward() but adds a few framework hooks\n",
        "to it."
      ],
      "metadata": {
        "id": "G4bXFAaWYEgZ"
      }
    },
    {
      "cell_type": "code",
      "source": [
        "inputs = torch.tensor([[1., 2.], [3., 4.]])\n",
        "torch_inputs = torch.tensor(inputs)\n",
        "output = model(inputs)"
      ],
      "metadata": {
        "colab": {
          "base_uri": "https://localhost:8080/"
        },
        "id": "U5o_OoQFXZGb",
        "outputId": "4b4014f8-4804-4a22-effd-530ed2a31677"
      },
      "execution_count": 23,
      "outputs": [
        {
          "output_type": "stream",
          "name": "stderr",
          "text": [
            "<ipython-input-23-55ecfda2ae0f>:2: UserWarning: To copy construct from a tensor, it is recommended to use sourceTensor.clone().detach() or sourceTensor.clone().detach().requires_grad_(True), rather than torch.tensor(sourceTensor).\n",
            "  torch_inputs = torch.tensor(inputs)\n"
          ]
        }
      ]
    },
    {
      "cell_type": "code",
      "source": [
        "output"
      ],
      "metadata": {
        "colab": {
          "base_uri": "https://localhost:8080/"
        },
        "id": "JoSAE_TdXeqK",
        "outputId": "c347b8c8-c857-46d0-b749-379f26615ac5"
      },
      "execution_count": 24,
      "outputs": [
        {
          "output_type": "execute_result",
          "data": {
            "text/plain": [
              "tensor([[0.8981],\n",
              "        [1.8143]], grad_fn=<AddBackward0>)"
            ]
          },
          "metadata": {},
          "execution_count": 24
        }
      ]
    },
    {
      "cell_type": "markdown",
      "source": [
        "Now, let’s get our hands on a PyTorch optimizer. To instantiate it, you will need to provide\n",
        "the list of parameters that the optimizer is intended to update. You can retrieve it from our\n",
        "Module instance via .parameters()."
      ],
      "metadata": {
        "id": "Qcyr4MOQX-Pe"
      }
    },
    {
      "cell_type": "code",
      "source": [
        "#learning_rate = 0.001\n",
        "optimizer = torch.optim.SGD(model.parameters()) #, lr=learning_rate)\n"
      ],
      "metadata": {
        "id": "4xkIf18OXqzL"
      },
      "execution_count": 25,
      "outputs": []
    },
    {
      "cell_type": "markdown",
      "source": [
        "Using our Module instance and the PyTorch SGD optimizer, can run a simplified training step:"
      ],
      "metadata": {
        "id": "EZHaKEEJYAml"
      }
    },
    {
      "cell_type": "code",
      "source": [
        "def training_step(inputs, targets):\n",
        "  predictions = model(inputs)\n",
        "  loss = mean_squared_error(targets, predictions)\n",
        "  loss.backward()\n",
        "  optimizer.step()\n",
        "  model.zero_grad()\n",
        "  return loss"
      ],
      "metadata": {
        "id": "saBGfkDWXt_4"
      },
      "execution_count": 26,
      "outputs": []
    },
    {
      "cell_type": "markdown",
      "source": [
        "## MAKING PYTORCH MODULES FAST USING COMPILATION\n"
      ],
      "metadata": {
        "id": "9vswCO7pYNIj"
      }
    },
    {
      "cell_type": "markdown",
      "source": [
        "One last thing. Similarly to how TensorFlow lets you compile functions for better\n",
        "performance, PyTorch lets you compile functions or even Module instances, via the\n",
        "torch.compile() utility. This API leverages PyTorch’s very own compiler, named Dynamo.\n",
        "Let’s try it on our linear regression Module:"
      ],
      "metadata": {
        "id": "QtxBmSJtYZKp"
      }
    },
    {
      "cell_type": "code",
      "source": [
        "compiled_model = model.compile()"
      ],
      "metadata": {
        "id": "2v-xBn-fX5NZ"
      },
      "execution_count": 27,
      "outputs": []
    },
    {
      "cell_type": "markdown",
      "source": [
        "The resulting object is intended to work identically to the original – except the forward and\n",
        "backward pass should run faster.\n",
        "You can also leverage torch.compile() as a function decorator:"
      ],
      "metadata": {
        "id": "Adk6h0mxYWTx"
      }
    },
    {
      "cell_type": "code",
      "source": [
        "@torch.compile\n",
        "def dense(inputs, W, b):\n",
        "  return torch.nn.relu(torch.matmul(inputs, W) + b)"
      ],
      "metadata": {
        "id": "GSiX8djUYQNo"
      },
      "execution_count": 28,
      "outputs": []
    },
    {
      "cell_type": "code",
      "source": [],
      "metadata": {
        "id": "GABeBPDTYUVZ"
      },
      "execution_count": 28,
      "outputs": []
    }
  ]
}